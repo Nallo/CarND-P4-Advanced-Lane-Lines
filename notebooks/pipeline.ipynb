{
 "cells": [
  {
   "cell_type": "markdown",
   "metadata": {},
   "source": [
    "# Pipeline Notebook"
   ]
  },
  {
   "cell_type": "markdown",
   "metadata": {},
   "source": [
    "The Notebook implements the logic to:\n",
    "    \n",
    "  * undistort\n",
    "  * binary\n",
    "  * ...\n",
    "\n",
    "an input image.\n",
    "\n",
    "A pipeline is defined and tested on static images and on 2 videos."
   ]
  },
  {
   "cell_type": "markdown",
   "metadata": {},
   "source": [
    "## Pipeline (single image)"
   ]
  },
  {
   "cell_type": "code",
   "execution_count": null,
   "metadata": {
    "collapsed": true
   },
   "outputs": [],
   "source": [
    "import numpy as np\n",
    "import cv2\n",
    "import pickle\n",
    "import glob\n",
    "import matplotlib.pyplot as plt\n",
    "import matplotlib.image as mpimg\n",
    "from skimage import img_as_ubyte\n",
    "%matplotlib inline"
   ]
  },
  {
   "cell_type": "markdown",
   "metadata": {},
   "source": [
    "### Helper functions"
   ]
  },
  {
   "cell_type": "code",
   "execution_count": null,
   "metadata": {
    "collapsed": true
   },
   "outputs": [],
   "source": [
    "def display_save_images(images, titles=None, fname=None):\n",
    "    \"\"\" Displays the input images in a subplot.\n",
    "        After the images have been displayed, this\n",
    "        function saves them in the 'output_images'\n",
    "        directory.\n",
    "        \n",
    "    Parameter:\n",
    "        - images: a list of images.\n",
    "        - titles: a list of titles.\n",
    "    \"\"\"\n",
    "    img_count = len(images)\n",
    "    m_cols = 2\n",
    "    m_rows = int(img_count/m_cols) + (int(img_count/m_cols)==0)\n",
    "\n",
    "    plt.figure(figsize=(3*m_cols, 2*m_rows))\n",
    "    for idx in range(img_count):\n",
    "        plt.subplot(m_rows, m_cols, idx+1)\n",
    "\n",
    "        if titles is not None:\n",
    "            plt.title(titles[idx])\n",
    "\n",
    "        plt.axis('off')\n",
    "\n",
    "        if len(images[idx].shape)==3:\n",
    "            plt.imshow(images[idx])\n",
    "        else:\n",
    "            plt.imshow(images[idx], cmap='binary')\n",
    "\n",
    "    plt.tight_layout(pad=0.50)\n",
    "\n",
    "    if fname is not None:\n",
    "        plt.savefig('../output_images/' + fname + '.jpg')\n",
    "\n",
    "    plt.show()\n",
    "    return\n",
    "\n",
    "def weighted_img(img, initial_img, α=0.8, β=1., λ=0.):\n",
    "    \"\"\"\n",
    "    `img` is the output of the hough_lines(), An image with lines drawn on it.\n",
    "    Should be a blank image (all black) with lines drawn on it.\n",
    "    \n",
    "    `initial_img` should be the image before any processing.\n",
    "    \n",
    "    The result image is computed as follows:\n",
    "    \n",
    "    initial_img * α + img * β + λ\n",
    "    NOTE: initial_img and img must be the same shape!\n",
    "    \"\"\"\n",
    "    return cv2.addWeighted(initial_img, α, img, β, λ)"
   ]
  },
  {
   "cell_type": "markdown",
   "metadata": {},
   "source": [
    "### Load Camera Calibration Parameters"
   ]
  },
  {
   "cell_type": "code",
   "execution_count": null,
   "metadata": {
    "collapsed": true
   },
   "outputs": [],
   "source": [
    "def load_camera_cal_params(pickle_fname):\n",
    "    \"\"\" Loads from a pickle file the camera\n",
    "        distortion matrix and distances.\n",
    "\n",
    "    Parameter:\n",
    "        - pickle_fname: Pickle file name.\n",
    "    Returns:\n",
    "        - (mtx, dist) tuple.\n",
    "    \"\"\"\n",
    "    with open(pickle_fname, \"rb\") as pf:\n",
    "        data = pickle.load(pf)\n",
    "        return data['mtx'], data['dist']\n",
    "\n",
    "pickle_fname = '../output_images/camera_cal_mtx_dist.p'\n",
    "mtx, dist = load_camera_cal_params(pickle_fname)"
   ]
  },
  {
   "cell_type": "code",
   "execution_count": null,
   "metadata": {
    "collapsed": false
   },
   "outputs": [],
   "source": [
    "assert mtx is not None\n",
    "assert mtx.shape == (3,3)\n",
    "assert dist is not None"
   ]
  },
  {
   "cell_type": "markdown",
   "metadata": {},
   "source": [
    "### Undistortion"
   ]
  },
  {
   "cell_type": "code",
   "execution_count": null,
   "metadata": {
    "collapsed": false
   },
   "outputs": [],
   "source": [
    "def pipeline_undistort(img, mtx, dist):\n",
    "    \"\"\" Undistorts the input image. \"\"\"\n",
    "    return cv2.undistort(img, mtx, dist, None, mtx)\n",
    "\n",
    "#img_fname = '../test_images/straight_lines2.jpg'\n",
    "img_fname = '../test_images/test1.jpg'\n",
    "img = mpimg.imread(img_fname)\n",
    "img_undist = pipeline_undistort(img, mtx, dist)\n",
    "display_save_images([img, img_undist], ['Original', 'Undistorted'], 'undistorted_road')"
   ]
  },
  {
   "cell_type": "markdown",
   "metadata": {},
   "source": [
    "### Create a Binary Image"
   ]
  },
  {
   "cell_type": "code",
   "execution_count": null,
   "metadata": {
    "collapsed": false
   },
   "outputs": [],
   "source": [
    "def binary_transform(img, sobel_kernel=3, sc_thresh=(170, 255), sx_thresh=(20, 100)):\n",
    "    \"\"\" Given an input image it convert the image color space\n",
    "        from RGB to HLS, tekes only the S channel and applies\n",
    "        Sobel thresholding along X axis.\n",
    "\n",
    "        Returns: a color binary image with only those pixels\n",
    "        set to 1 iff the Sobel values were within the sx_thresh\n",
    "        and the S channel values were within the sc_thresh.\n",
    "    \"\"\"\n",
    "    \n",
    "    img = np.copy(img)\n",
    "\n",
    "    # Convert to HSV color space and separate the S channel\n",
    "    hsv = cv2.cvtColor(img, cv2.COLOR_RGB2HLS).astype(np.float)\n",
    "    h_channel = hsv[:,:,0]\n",
    "    l_channel = hsv[:,:,1]\n",
    "    s_channel = hsv[:,:,2]\n",
    "\n",
    "    # Use the s_channel\n",
    "    channel = s_channel\n",
    "    \n",
    "    # Sobel x and y\n",
    "    sobel_x = cv2.Sobel(channel, cv2.CV_64F, 1, 0, ksize=sobel_kernel)\n",
    "    sobel_y = cv2.Sobel(channel, cv2.CV_64F, 0, 1, ksize=sobel_kernel)\n",
    "\n",
    "    # Absolute derivative in x and y\n",
    "    sobel_x_abs = np.absolute(sobel_x)\n",
    "    sobel_y_abs = np.absolute(sobel_y)\n",
    "\n",
    "    # Scale to 8-bit (0 - 255) then convert to type = np.uint8\n",
    "    scaled_sobel_x = np.uint8(255*sobel_x_abs/np.max(sobel_x_abs))\n",
    "\n",
    "    # Threshold x gradient\n",
    "    sx_binary = np.zeros_like(scaled_sobel_x)\n",
    "    sx_binary[(scaled_sobel_x >= sx_thresh[0]) & (scaled_sobel_x <= sx_thresh[1])] = 1\n",
    "    \n",
    "    # Threshold color channel\n",
    "    s_binary = np.zeros_like(s_channel)\n",
    "    s_binary[(channel >= sc_thresh[0]) & (channel <= sc_thresh[1])] = 1\n",
    "\n",
    "    # Stack each channel\n",
    "    # Note color_binary[:, :, 0] is all 0s, effectively an all black image. It might\n",
    "    # be beneficial to replace this channel with something else.\n",
    "    color_binary = np.dstack(( np.zeros_like(sx_binary), sx_binary, s_binary))\n",
    "\n",
    "    # Create a binary flat image.\n",
    "    flat_binary = np.zeros_like(sx_binary)\n",
    "    flat_binary[(sx_binary == 1) | (s_binary == 1)] = 1\n",
    "\n",
    "    return flat_binary\n",
    "\n",
    "\n",
    "ksize     = 31\n",
    "d_thresh  = (0.7, 1.2)\n",
    "sx_thresh = (20, 100)\n",
    "sc_thresh = (170, 255)\n",
    "\n",
    "result = binary_transform(img_undist,\n",
    "                          sobel_kernel=ksize,\n",
    "                          sc_thresh=sc_thresh,\n",
    "                          sx_thresh=sx_thresh )\n",
    "display_save_images([img_undist, result], ['Original', 'Sobel + Binary'], 'binary_transform')"
   ]
  },
  {
   "cell_type": "markdown",
   "metadata": {},
   "source": [
    "### Apply Perspective Transformation (Bird's eye)"
   ]
  },
  {
   "cell_type": "code",
   "execution_count": null,
   "metadata": {
    "collapsed": false
   },
   "outputs": [],
   "source": [
    "def birds_eye_view(img):\n",
    "    \"\"\" Apply perspective transformation on input image.\n",
    "        Returns: The transformed input image (Bird's Eye) as uint8 type.\n",
    "    \"\"\"\n",
    "    img_h = img.shape[0]\n",
    "    img_w = img.shape[1]\n",
    "    \n",
    "    leftupperpoint  = [568,470]\n",
    "    rightupperpoint = [717,470]\n",
    "    leftlowerpoint  = [260,680]\n",
    "    rightlowerpoint = [1043,680]\n",
    "\n",
    "    src = np.float32([leftupperpoint, leftlowerpoint, rightupperpoint, rightlowerpoint])\n",
    "    dst = np.float32([[200,0], [200,680], [1000,0], [1000,680]])\n",
    "\n",
    "    # Given src and dst points, calculate the perspective transform matrix\n",
    "    M = cv2.getPerspectiveTransform(src, dst)\n",
    "\n",
    "    # Warp the image using OpenCV warpPerspective()\n",
    "    warped = cv2.warpPerspective(img, M, (img_w, img_h), flags=cv2.INTER_NEAREST)\n",
    "    return img_as_ubyte(warped), M\n",
    "\n",
    "warped, M = birds_eye_view(result)\n",
    "display_save_images([result, warped], ['Original', 'Warped'], 'warped')"
   ]
  },
  {
   "cell_type": "markdown",
   "metadata": {},
   "source": [
    "### Display Lines Histogram"
   ]
  },
  {
   "cell_type": "code",
   "execution_count": null,
   "metadata": {
    "collapsed": false
   },
   "outputs": [],
   "source": [
    "def display_histogram(img):\n",
    "    histogram = np.sum(img[int(img.shape[0]/2):,:], axis=0)\n",
    "    plt.title('Lines histogram')\n",
    "    plt.plot(histogram)\n",
    "    plt.savefig('../output_images/histogram.jpg')\n",
    "    return\n",
    "\n",
    "display_histogram(warped)"
   ]
  },
  {
   "cell_type": "markdown",
   "metadata": {},
   "source": [
    "### Find Lines and Compute Curve Radius"
   ]
  },
  {
   "cell_type": "code",
   "execution_count": null,
   "metadata": {
    "collapsed": false
   },
   "outputs": [],
   "source": [
    "def fit_lines(binary_warped):\n",
    "    # Assuming you have created a warped binary image called \"binary_warped\"\n",
    "    # Take a histogram of the bottom half of the image\n",
    "    histogram = np.sum(binary_warped[int(binary_warped.shape[0]/2):,:], axis=0)\n",
    "    # Create an output image to draw on and  visualize the result\n",
    "    out_img = np.dstack((binary_warped, binary_warped, binary_warped))*255\n",
    "    # Find the peak of the left and right halves of the histogram\n",
    "    # These will be the starting point for the left and right lines\n",
    "    midpoint = np.int(histogram.shape[0]/2)\n",
    "    leftx_base = np.argmax(histogram[:midpoint])\n",
    "    rightx_base = np.argmax(histogram[midpoint:]) + midpoint\n",
    "\n",
    "    # Choose the number of sliding windows\n",
    "    nwindows = 10\n",
    "    # Set height of windows\n",
    "    window_height = np.int(binary_warped.shape[0]/nwindows)\n",
    "    # Identify the x and y positions of all nonzero pixels in the image\n",
    "    nonzero = binary_warped.nonzero()\n",
    "    nonzeroy = np.array(nonzero[0])\n",
    "    nonzerox = np.array(nonzero[1])\n",
    "    # Current positions to be updated for each window\n",
    "    leftx_current = leftx_base\n",
    "    rightx_current = rightx_base\n",
    "    # Set the width of the windows +/- margin\n",
    "    margin = 100\n",
    "    # Set minimum number of pixels found to recenter window\n",
    "    minpix = 50\n",
    "    # Create empty lists to receive left and right lane pixel indices\n",
    "    left_lane_inds = []\n",
    "    right_lane_inds = []\n",
    "    \n",
    "    # Step through the windows one by one\n",
    "    for window in range(nwindows):\n",
    "        # Identify window boundaries in x and y (and right and left)\n",
    "        win_y_low = binary_warped.shape[0] - (window+1)*window_height\n",
    "        win_y_high = binary_warped.shape[0] - window*window_height\n",
    "        win_xleft_low = leftx_current - margin\n",
    "        win_xleft_high = leftx_current + margin\n",
    "        win_xright_low = rightx_current - margin\n",
    "        win_xright_high = rightx_current + margin\n",
    "        # Draw the windows on the visualization image\n",
    "        cv2.rectangle(out_img,(win_xleft_low,win_y_low),(win_xleft_high,win_y_high),(0,255,0), 2) \n",
    "        cv2.rectangle(out_img,(win_xright_low,win_y_low),(win_xright_high,win_y_high),(0,255,0), 2) \n",
    "        # Identify the nonzero pixels in x and y within the window\n",
    "        good_left_inds = ((nonzeroy >= win_y_low) & (nonzeroy < win_y_high) & (nonzerox >= win_xleft_low) & (nonzerox < win_xleft_high)).nonzero()[0]\n",
    "        good_right_inds = ((nonzeroy >= win_y_low) & (nonzeroy < win_y_high) & (nonzerox >= win_xright_low) & (nonzerox < win_xright_high)).nonzero()[0]\n",
    "        # Append these indices to the lists\n",
    "        left_lane_inds.append(good_left_inds)\n",
    "        right_lane_inds.append(good_right_inds)\n",
    "        # If you found > minpix pixels, recenter next window on their mean position\n",
    "        if len(good_left_inds) > minpix:\n",
    "            leftx_current = np.int(np.mean(nonzerox[good_left_inds]))\n",
    "        if len(good_right_inds) > minpix:        \n",
    "            rightx_current = np.int(np.mean(nonzerox[good_right_inds]))\n",
    "\n",
    "    # Concatenate the arrays of indices\n",
    "    left_lane_inds = np.concatenate(left_lane_inds)\n",
    "    right_lane_inds = np.concatenate(right_lane_inds)\n",
    "\n",
    "    # Extract left and right line pixel positions\n",
    "    leftx = nonzerox[left_lane_inds]\n",
    "    lefty = nonzeroy[left_lane_inds] \n",
    "    rightx = nonzerox[right_lane_inds]\n",
    "    righty = nonzeroy[right_lane_inds] \n",
    "\n",
    "    # Fit a second order polynomial to each\n",
    "    left_fit = np.polyfit(lefty, leftx, 2)\n",
    "    right_fit = np.polyfit(righty, rightx, 2)\n",
    "    \n",
    "    ########################\n",
    "    #### Display result ####\n",
    "    ########################\n",
    "    ploty = np.linspace(0, binary_warped.shape[0]-1, binary_warped.shape[0] )\n",
    "    left_fitx = left_fit[0]*ploty**2 + left_fit[1]*ploty + left_fit[2]\n",
    "    right_fitx = right_fit[0]*ploty**2 + right_fit[1]*ploty + right_fit[2]\n",
    "    \n",
    "    out_img[nonzeroy[left_lane_inds], nonzerox[left_lane_inds]] = [255, 0, 0]\n",
    "    out_img[nonzeroy[right_lane_inds], nonzerox[right_lane_inds]] = [0, 0, 255]\n",
    "\n",
    "    # Compute curve radius    \n",
    "    # Define conversions in x and y from pixels space to meters\n",
    "    ym_per_pix = 30/720 # meters per pixel in y dimension\n",
    "    xm_per_pix = 3.7/700 # meters per pixel in x dimension\n",
    "\n",
    "    # Choose the maximum y-value, corresponding to the bottom of the image\n",
    "    y_eval = np.max(ploty)\n",
    "    #left_curverad = ((1 + (2*left_fit[0]*y_eval + left_fit[1])**2)**1.5) / np.absolute(2*left_fit[0])\n",
    "    #right_curverad = ((1 + (2*right_fit[0]*y_eval + right_fit[1])**2)**1.5) / np.absolute(2*right_fit[0])\n",
    "    \n",
    "    # Fit new polynomials to x,y in world space\n",
    "    left_fit_cr = np.polyfit(ploty*ym_per_pix, left_fitx*xm_per_pix, 2)\n",
    "    right_fit_cr = np.polyfit(ploty*ym_per_pix, right_fitx*xm_per_pix, 2)\n",
    "    # Calculate the new radii of curvature\n",
    "    left_curverad =  ((1 + (2*left_fit_cr[0] *y_eval*ym_per_pix + left_fit_cr[1])**2) **1.5) / np.absolute(2*left_fit_cr[0])\n",
    "    right_curverad = ((1 + (2*right_fit_cr[0]*y_eval*ym_per_pix + right_fit_cr[1])**2)**1.5) / np.absolute(2*right_fit_cr[0])\n",
    "\n",
    "    # Compute car position\n",
    "    m_car = binary_warped.shape[1] / 2\n",
    "    m_lane = (left_fitx[0] + right_fitx[0]) / 2\n",
    "    offset_right_from_center_m = (m_lane-m_car)*xm_per_pix\n",
    "    \n",
    "    # Now our radius of curvature is in meters\n",
    "    avg_radius_meters = np.mean([left_curverad, right_curverad])\n",
    "    return out_img, avg_radius_meters, offset_right_from_center_m, left_fitx, right_fitx, ploty\n",
    "\n",
    "img_lines, r_meters, right_from_center_m, l_fit, r_fit, ploty = fit_lines(warped)\n",
    "display_save_images([warped, img_lines], ['Original', 'Lines - R: {:.0f} m'.format(r_meters)], 'lines')"
   ]
  },
  {
   "cell_type": "markdown",
   "metadata": {},
   "source": [
    "### Back to original image perspective"
   ]
  },
  {
   "cell_type": "code",
   "execution_count": null,
   "metadata": {
    "collapsed": false
   },
   "outputs": [],
   "source": [
    "def to_real_world_space(image, warped, Minv, left_fitx, right_fitx, ploty):\n",
    "    # Create an image to draw the lines on\n",
    "    color_warp = np.zeros_like(warped).astype(np.uint8)\n",
    "    \n",
    "    # Recast the x and y points into usable format for cv2.fillPoly()\n",
    "    pts_left = np.array([np.transpose(np.vstack([left_fitx, ploty]))])\n",
    "    pts_right = np.array([np.flipud(np.transpose(np.vstack([right_fitx, ploty])))])\n",
    "    pts = np.hstack((pts_left, pts_right))\n",
    "\n",
    "    # Draw the lane onto the warped blank image\n",
    "    cv2.fillPoly(color_warp, np.int_([pts]), (0,255, 0))\n",
    "\n",
    "    # Warp the blank back to original image space using inverse perspective matrix (Minv)\n",
    "    newwarp = cv2.warpPerspective(color_warp, Minv, (image.shape[1], image.shape[0]))\n",
    "\n",
    "    # Combine the result with the original image\n",
    "    result = cv2.addWeighted(image, 1, newwarp, 0.3, 0)\n",
    "    return result\n",
    "\n",
    "Minv = np.linalg.inv(M)\n",
    "final_output = to_real_world_space(img, img_lines, Minv, l_fit, r_fit, ploty)\n",
    "display_save_images([img, final_output], ['Original', 'Pipeline Result'], 'final_result')"
   ]
  },
  {
   "cell_type": "markdown",
   "metadata": {},
   "source": [
    "## Prepare Pipeline"
   ]
  },
  {
   "cell_type": "code",
   "execution_count": null,
   "metadata": {
    "collapsed": true
   },
   "outputs": [],
   "source": [
    "# Import everything needed to edit/save/watch video clips\n",
    "from moviepy.editor import VideoFileClip\n",
    "from IPython.display import HTML"
   ]
  },
  {
   "cell_type": "code",
   "execution_count": null,
   "metadata": {
    "collapsed": false,
    "scrolled": false
   },
   "outputs": [],
   "source": [
    "def process_image(img):\n",
    "    # NOTE: The output you return should be a color\n",
    "    # image (3 channel) for processing video below\n",
    "    # Your pipeline here, return the final\n",
    "    # output (image with lines are drawn on lanes)\n",
    "    ksize     = 9\n",
    "    d_thresh  = (0.7, 1.2)\n",
    "    sx_thresh = (20, 100)\n",
    "    sc_thresh = (170, 255)\n",
    "\n",
    "    img_undist = pipeline_undistort(img, mtx, dist)\n",
    "    binary = binary_transform(img_undist,\n",
    "                              sobel_kernel=ksize,\n",
    "                              sc_thresh=sc_thresh,\n",
    "                              sx_thresh=sx_thresh )\n",
    "    warped, M = birds_eye_view(binary)\n",
    "    img_lines, r_meters, right_from_center_m, l_fit, r_fit, ploty = fit_lines(warped)\n",
    "    \n",
    "    # Update the RingBuffer\n",
    "    global l_fit_buffer\n",
    "    global r_fit_buffer\n",
    "    global old_img_lines\n",
    "\n",
    "    if old_img_lines is None:\n",
    "        old_img_lines = warped\n",
    "\n",
    "    ret = cv2.matchShapes(old_img_lines, warped, 1, 0.0)\n",
    "    #print(ret)\n",
    "    if ret < 20:\n",
    "        old_img_lines = warped\n",
    "\n",
    "        if l_fit_buffer is None:\n",
    "            l_fit_buffer = np.array([l_fit])\n",
    "\n",
    "        if r_fit_buffer is None:\n",
    "            r_fit_buffer = np.array([r_fit])\n",
    "\n",
    "        l_fit_buffer = np.append(l_fit_buffer, [l_fit], axis=0)[-FILTER_SIZE:]\n",
    "        r_fit_buffer = np.append(r_fit_buffer, [r_fit], axis=0)[-FILTER_SIZE:]\n",
    "\n",
    "    #l_fit_buffer = np.append(l_fit_buffer, [l_fit], axis=0)[-FILTER_SIZE:]\n",
    "    #r_fit_buffer = np.append(r_fit_buffer, [r_fit], axis=0)[-FILTER_SIZE:]\n",
    "    \n",
    "    # Compute the mean\n",
    "    l_fit_mean = np.mean(l_fit_buffer, axis=0)\n",
    "    r_fit_mean = np.mean(r_fit_buffer, axis=0)\n",
    "\n",
    "    # Go back to real world space\n",
    "    Minv = np.linalg.inv(M)\n",
    "    final_output = to_real_world_space(img, img_lines, Minv, l_fit_mean, r_fit_mean, ploty)\n",
    "\n",
    "    # Annotate image with text\n",
    "    font = cv2.FONT_HERSHEY_SIMPLEX\n",
    "    text = \"Curve Radius: {:.0f} m\".format(r_meters)\n",
    "    cv2.putText(final_output, text, (50,50), font, 1, (255,255,255), 2)\n",
    "    text = \"Offset Right from center: {:.2f} m\".format(right_from_center_m)\n",
    "    cv2.putText(final_output, text, (50,100), font, 1, (255,255,255), 2)\n",
    "\n",
    "    return np.hstack((final_output, img_lines))\n",
    "    #return final_output\n",
    "\n",
    "# Prepare the buffers\n",
    "FILTER_SIZE = 20\n",
    "old_img_lines = None\n",
    "l_fit_buffer = None\n",
    "r_fit_buffer = None\n",
    "\n",
    "r = process_image(img)\n",
    "plt.imshow(r)\n",
    "plt.show()"
   ]
  },
  {
   "cell_type": "markdown",
   "metadata": {},
   "source": [
    "## Pipeline (video 1)"
   ]
  },
  {
   "cell_type": "code",
   "execution_count": null,
   "metadata": {
    "collapsed": false,
    "scrolled": true
   },
   "outputs": [],
   "source": [
    "old_img_lines = None\n",
    "l_fit_buffer = None\n",
    "r_fit_buffer = None\n",
    "\n",
    "project_video_output = '../output_video/project_video.mp4'\n",
    "clip1 = VideoFileClip(\"../project_video.mp4\")\n",
    "white_clip = clip1.fl_image(process_image)\n",
    "%time white_clip.write_videofile(project_video_output, audio=False)"
   ]
  },
  {
   "cell_type": "markdown",
   "metadata": {},
   "source": [
    "Play the video inline. The video is also saved in the `output_video` directory."
   ]
  },
  {
   "cell_type": "code",
   "execution_count": null,
   "metadata": {
    "collapsed": false
   },
   "outputs": [],
   "source": [
    "HTML(\"\"\"\n",
    "<video width=\"960\" height=\"540\" controls>\n",
    "  <source src=\"{0}\">\n",
    "</video>\n",
    "\"\"\".format(project_video_output))"
   ]
  },
  {
   "cell_type": "markdown",
   "metadata": {},
   "source": [
    "## Pipeline (video 2 - optional)"
   ]
  },
  {
   "cell_type": "code",
   "execution_count": null,
   "metadata": {
    "collapsed": false,
    "scrolled": false
   },
   "outputs": [],
   "source": [
    "old_img_lines = None\n",
    "l_fit_buffer = None\n",
    "r_fit_buffer = None\n",
    "\n",
    "challenge_video_output = '../output_video/challenge_video.mp4'\n",
    "clip1 = VideoFileClip(\"../challenge_video.mp4\")\n",
    "white_clip = clip1.fl_image(process_image)\n",
    "%time white_clip.write_videofile(challenge_video_output, audio=False)"
   ]
  },
  {
   "cell_type": "code",
   "execution_count": null,
   "metadata": {
    "collapsed": false
   },
   "outputs": [],
   "source": [
    "HTML(\"\"\"\n",
    "<video width=\"960\" height=\"540\" controls>\n",
    "  <source src=\"{0}\">\n",
    "</video>\n",
    "\"\"\".format(challenge_video_output))"
   ]
  },
  {
   "cell_type": "markdown",
   "metadata": {},
   "source": [
    "## Pipeline (video 3 - optional)"
   ]
  },
  {
   "cell_type": "code",
   "execution_count": null,
   "metadata": {
    "collapsed": false
   },
   "outputs": [],
   "source": [
    "harder_challenge_video_output = '../output_video/harder_challenge_video.mp4'\n",
    "clip1 = VideoFileClip(\"../harder_challenge_video.mp4\")\n",
    "white_clip = clip1.fl_image(process_image)\n",
    "%time white_clip.write_videofile(harder_challenge_video_output, audio=False)"
   ]
  },
  {
   "cell_type": "code",
   "execution_count": null,
   "metadata": {
    "collapsed": false
   },
   "outputs": [],
   "source": [
    "HTML(\"\"\"\n",
    "<video width=\"960\" height=\"540\" controls>\n",
    "  <source src=\"{0}\">\n",
    "</video>\n",
    "\"\"\".format(harder_challenge_video_output))"
   ]
  },
  {
   "cell_type": "code",
   "execution_count": null,
   "metadata": {
    "collapsed": true
   },
   "outputs": [],
   "source": []
  }
 ],
 "metadata": {
  "anaconda-cloud": {},
  "kernelspec": {
   "display_name": "Python [conda env:sdcEnvPython3]",
   "language": "python",
   "name": "conda-env-sdcEnvPython3-py"
  },
  "language_info": {
   "codemirror_mode": {
    "name": "ipython",
    "version": 3
   },
   "file_extension": ".py",
   "mimetype": "text/x-python",
   "name": "python",
   "nbconvert_exporter": "python",
   "pygments_lexer": "ipython3",
   "version": "3.5.2"
  }
 },
 "nbformat": 4,
 "nbformat_minor": 1
}
